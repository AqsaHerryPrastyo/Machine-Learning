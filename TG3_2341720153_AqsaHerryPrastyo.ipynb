{
  "nbformat": 4,
  "nbformat_minor": 0,
  "metadata": {
    "colab": {
      "provenance": [],
      "authorship_tag": "ABX9TyPOO47tLVqtV/iBb5ZMlkoj",
      "include_colab_link": true
    },
    "kernelspec": {
      "name": "python3",
      "display_name": "Python 3"
    },
    "language_info": {
      "name": "python"
    }
  },
  "cells": [
    {
      "cell_type": "markdown",
      "metadata": {
        "id": "view-in-github",
        "colab_type": "text"
      },
      "source": [
        "<a href=\"https://colab.research.google.com/github/AqsaHerryPrastyo/Machine-Learning/blob/main/TG3_2341720153_AqsaHerryPrastyo.ipynb\" target=\"_parent\"><img src=\"https://colab.research.google.com/assets/colab-badge.svg\" alt=\"Open In Colab\"/></a>"
      ]
    },
    {
      "cell_type": "code",
      "source": [
        "# Import library\n",
        "import pandas as pd\n",
        "from sklearn.preprocessing import LabelEncoder, StandardScaler\n",
        "from sklearn.model_selection import train_test_split\n",
        "\n",
        "# 1. Baca data\n",
        "df = pd.read_csv(\"/content/wbc.csv\")\n",
        "\n",
        "print(\"Data awal:\")\n",
        "print(df.head())\n",
        "\n",
        "# 1. Pisahkan variabel yang tidak digunakan\n",
        "# Drop kolom id (jika ada) dan kolom kosong Unnamed: 32\n",
        "df = df.drop(columns=[\"id\"], errors=\"ignore\")\n",
        "df = df.drop(columns=[\"Unnamed: 32\"], errors=\"ignore\")\n",
        "\n",
        "# 2. Encoding kolom diagnosis (M=1, B=0)\n",
        "encoder = LabelEncoder()\n",
        "df[\"diagnosis\"] = encoder.fit_transform(df[\"diagnosis\"])\n",
        "\n",
        "# 3. Standarisasi kolom numerik\n",
        "numeric_cols = df.drop(columns=[\"diagnosis\"]).columns\n",
        "scaler = StandardScaler()\n",
        "df[numeric_cols] = scaler.fit_transform(df[numeric_cols])\n",
        "\n",
        "# 4. Stratified split data (80:20)\n",
        "X = df.drop(columns=[\"diagnosis\"])\n",
        "y = df[\"diagnosis\"]\n",
        "\n",
        "X_train, X_test, y_train, y_test = train_test_split(\n",
        "    X, y, test_size=0.2, stratify=y, random_state=42\n",
        ")\n",
        "\n",
        "print(\"\\nJumlah data latih:\", X_train.shape[0])\n",
        "print(\"Jumlah data uji:\", X_test.shape[0])\n",
        "print(\"Proporsi label di data latih:\\n\", y_train.value_counts(normalize=True))\n",
        "print(\"Proporsi label di data uji:\\n\", y_test.value_counts(normalize=True))\n"
      ],
      "metadata": {
        "colab": {
          "base_uri": "https://localhost:8080/"
        },
        "id": "wsglfYBmvi0J",
        "outputId": "78341236-7cb4-4d7c-da4a-33aceb97edc3"
      },
      "execution_count": 11,
      "outputs": [
        {
          "output_type": "stream",
          "name": "stdout",
          "text": [
            "Data awal:\n",
            "         id diagnosis  radius_mean  texture_mean  perimeter_mean  area_mean  \\\n",
            "0    842302         M        17.99         10.38          122.80     1001.0   \n",
            "1    842517         M        20.57         17.77          132.90     1326.0   \n",
            "2  84300903         M        19.69         21.25          130.00     1203.0   \n",
            "3  84348301         M        11.42         20.38           77.58      386.1   \n",
            "4  84358402         M        20.29         14.34          135.10     1297.0   \n",
            "\n",
            "   smoothness_mean  compactness_mean  concavity_mean  concave points_mean  \\\n",
            "0          0.11840           0.27760          0.3001              0.14710   \n",
            "1          0.08474           0.07864          0.0869              0.07017   \n",
            "2          0.10960           0.15990          0.1974              0.12790   \n",
            "3          0.14250           0.28390          0.2414              0.10520   \n",
            "4          0.10030           0.13280          0.1980              0.10430   \n",
            "\n",
            "   ...  texture_worst  perimeter_worst  area_worst  smoothness_worst  \\\n",
            "0  ...          17.33           184.60      2019.0            0.1622   \n",
            "1  ...          23.41           158.80      1956.0            0.1238   \n",
            "2  ...          25.53           152.50      1709.0            0.1444   \n",
            "3  ...          26.50            98.87       567.7            0.2098   \n",
            "4  ...          16.67           152.20      1575.0            0.1374   \n",
            "\n",
            "   compactness_worst  concavity_worst  concave points_worst  symmetry_worst  \\\n",
            "0             0.6656           0.7119                0.2654          0.4601   \n",
            "1             0.1866           0.2416                0.1860          0.2750   \n",
            "2             0.4245           0.4504                0.2430          0.3613   \n",
            "3             0.8663           0.6869                0.2575          0.6638   \n",
            "4             0.2050           0.4000                0.1625          0.2364   \n",
            "\n",
            "   fractal_dimension_worst  Unnamed: 32  \n",
            "0                  0.11890          NaN  \n",
            "1                  0.08902          NaN  \n",
            "2                  0.08758          NaN  \n",
            "3                  0.17300          NaN  \n",
            "4                  0.07678          NaN  \n",
            "\n",
            "[5 rows x 33 columns]\n",
            "\n",
            "Jumlah data latih: 455\n",
            "Jumlah data uji: 114\n",
            "Proporsi label di data latih:\n",
            " diagnosis\n",
            "0    0.626374\n",
            "1    0.373626\n",
            "Name: proportion, dtype: float64\n",
            "Proporsi label di data uji:\n",
            " diagnosis\n",
            "0    0.631579\n",
            "1    0.368421\n",
            "Name: proportion, dtype: float64\n"
          ]
        }
      ]
    }
  ]
}