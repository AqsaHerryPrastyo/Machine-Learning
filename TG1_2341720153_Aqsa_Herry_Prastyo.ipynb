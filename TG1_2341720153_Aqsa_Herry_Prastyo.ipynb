{
  "nbformat": 4,
  "nbformat_minor": 0,
  "metadata": {
    "colab": {
      "provenance": [],
      "include_colab_link": true
    },
    "kernelspec": {
      "name": "python3",
      "display_name": "Python 3"
    },
    "language_info": {
      "name": "python"
    }
  },
  "cells": [
    {
      "cell_type": "markdown",
      "metadata": {
        "id": "view-in-github",
        "colab_type": "text"
      },
      "source": [
        "<a href=\"https://colab.research.google.com/github/AqsaHerryPrastyo/Machine-Learning/blob/main/TG1_2341720153_Aqsa_Herry_Prastyo.ipynb\" target=\"_parent\"><img src=\"https://colab.research.google.com/assets/colab-badge.svg\" alt=\"Open In Colab\"/></a>"
      ]
    },
    {
      "cell_type": "code",
      "execution_count": null,
      "metadata": {
        "colab": {
          "base_uri": "https://localhost:8080/"
        },
        "id": "cCL1cpnioNdY",
        "outputId": "27a07d8d-dfc5-45bc-805d-e664d9cef28c"
      },
      "outputs": [
        {
          "output_type": "stream",
          "name": "stdout",
          "text": [
            "Collecting PyPREP\n",
            "  Downloading pyprep-0.5.0-py3-none-any.whl.metadata (7.3 kB)\n",
            "Collecting mne>=1.3.0 (from PyPREP)\n",
            "  Downloading mne-1.10.1-py3-none-any.whl.metadata (20 kB)\n",
            "Requirement already satisfied: numpy>=1.20.2 in /usr/local/lib/python3.12/dist-packages (from PyPREP) (2.0.2)\n",
            "Requirement already satisfied: psutil>=5.4.3 in /usr/local/lib/python3.12/dist-packages (from PyPREP) (5.9.5)\n",
            "Requirement already satisfied: scipy>=1.6.3 in /usr/local/lib/python3.12/dist-packages (from PyPREP) (1.16.1)\n",
            "Requirement already satisfied: decorator in /usr/local/lib/python3.12/dist-packages (from mne>=1.3.0->PyPREP) (4.4.2)\n",
            "Requirement already satisfied: jinja2 in /usr/local/lib/python3.12/dist-packages (from mne>=1.3.0->PyPREP) (3.1.6)\n",
            "Requirement already satisfied: lazy-loader>=0.3 in /usr/local/lib/python3.12/dist-packages (from mne>=1.3.0->PyPREP) (0.4)\n",
            "Requirement already satisfied: matplotlib>=3.7 in /usr/local/lib/python3.12/dist-packages (from mne>=1.3.0->PyPREP) (3.10.0)\n",
            "Requirement already satisfied: packaging in /usr/local/lib/python3.12/dist-packages (from mne>=1.3.0->PyPREP) (25.0)\n",
            "Requirement already satisfied: pooch>=1.5 in /usr/local/lib/python3.12/dist-packages (from mne>=1.3.0->PyPREP) (1.8.2)\n",
            "Requirement already satisfied: tqdm in /usr/local/lib/python3.12/dist-packages (from mne>=1.3.0->PyPREP) (4.67.1)\n",
            "Requirement already satisfied: contourpy>=1.0.1 in /usr/local/lib/python3.12/dist-packages (from matplotlib>=3.7->mne>=1.3.0->PyPREP) (1.3.3)\n",
            "Requirement already satisfied: cycler>=0.10 in /usr/local/lib/python3.12/dist-packages (from matplotlib>=3.7->mne>=1.3.0->PyPREP) (0.12.1)\n",
            "Requirement already satisfied: fonttools>=4.22.0 in /usr/local/lib/python3.12/dist-packages (from matplotlib>=3.7->mne>=1.3.0->PyPREP) (4.59.2)\n",
            "Requirement already satisfied: kiwisolver>=1.3.1 in /usr/local/lib/python3.12/dist-packages (from matplotlib>=3.7->mne>=1.3.0->PyPREP) (1.4.9)\n",
            "Requirement already satisfied: pillow>=8 in /usr/local/lib/python3.12/dist-packages (from matplotlib>=3.7->mne>=1.3.0->PyPREP) (11.3.0)\n",
            "Requirement already satisfied: pyparsing>=2.3.1 in /usr/local/lib/python3.12/dist-packages (from matplotlib>=3.7->mne>=1.3.0->PyPREP) (3.2.3)\n",
            "Requirement already satisfied: python-dateutil>=2.7 in /usr/local/lib/python3.12/dist-packages (from matplotlib>=3.7->mne>=1.3.0->PyPREP) (2.9.0.post0)\n",
            "Requirement already satisfied: platformdirs>=2.5.0 in /usr/local/lib/python3.12/dist-packages (from pooch>=1.5->mne>=1.3.0->PyPREP) (4.4.0)\n",
            "Requirement already satisfied: requests>=2.19.0 in /usr/local/lib/python3.12/dist-packages (from pooch>=1.5->mne>=1.3.0->PyPREP) (2.32.4)\n",
            "Requirement already satisfied: MarkupSafe>=2.0 in /usr/local/lib/python3.12/dist-packages (from jinja2->mne>=1.3.0->PyPREP) (3.0.2)\n",
            "Requirement already satisfied: six>=1.5 in /usr/local/lib/python3.12/dist-packages (from python-dateutil>=2.7->matplotlib>=3.7->mne>=1.3.0->PyPREP) (1.17.0)\n",
            "Requirement already satisfied: charset_normalizer<4,>=2 in /usr/local/lib/python3.12/dist-packages (from requests>=2.19.0->pooch>=1.5->mne>=1.3.0->PyPREP) (3.4.3)\n",
            "Requirement already satisfied: idna<4,>=2.5 in /usr/local/lib/python3.12/dist-packages (from requests>=2.19.0->pooch>=1.5->mne>=1.3.0->PyPREP) (3.10)\n",
            "Requirement already satisfied: urllib3<3,>=1.21.1 in /usr/local/lib/python3.12/dist-packages (from requests>=2.19.0->pooch>=1.5->mne>=1.3.0->PyPREP) (2.5.0)\n",
            "Requirement already satisfied: certifi>=2017.4.17 in /usr/local/lib/python3.12/dist-packages (from requests>=2.19.0->pooch>=1.5->mne>=1.3.0->PyPREP) (2025.8.3)\n",
            "Downloading pyprep-0.5.0-py3-none-any.whl (34 kB)\n",
            "Downloading mne-1.10.1-py3-none-any.whl (7.4 MB)\n",
            "\u001b[2K   \u001b[90m━━━━━━━━━━━━━━━━━━━━━━━━━━━━━━━━━━━━━━━━\u001b[0m \u001b[32m7.4/7.4 MB\u001b[0m \u001b[31m51.3 MB/s\u001b[0m eta \u001b[36m0:00:00\u001b[0m\n",
            "\u001b[?25hInstalling collected packages: mne, PyPREP\n",
            "Successfully installed PyPREP-0.5.0 mne-1.10.1\n",
            "Requirement already satisfied: scipy in /usr/local/lib/python3.12/dist-packages (1.16.1)\n",
            "Requirement already satisfied: numpy<2.6,>=1.25.2 in /usr/local/lib/python3.12/dist-packages (from scipy) (2.0.2)\n",
            "Requirement already satisfied: wandb in /usr/local/lib/python3.12/dist-packages (0.21.3)\n",
            "Requirement already satisfied: click>=8.0.1 in /usr/local/lib/python3.12/dist-packages (from wandb) (8.2.1)\n",
            "Requirement already satisfied: gitpython!=3.1.29,>=1.0.0 in /usr/local/lib/python3.12/dist-packages (from wandb) (3.1.45)\n",
            "Requirement already satisfied: packaging in /usr/local/lib/python3.12/dist-packages (from wandb) (25.0)\n",
            "Requirement already satisfied: platformdirs in /usr/local/lib/python3.12/dist-packages (from wandb) (4.4.0)\n",
            "Requirement already satisfied: protobuf!=4.21.0,!=5.28.0,<7,>=3.19.0 in /usr/local/lib/python3.12/dist-packages (from wandb) (5.29.5)\n",
            "Requirement already satisfied: pydantic<3 in /usr/local/lib/python3.12/dist-packages (from wandb) (2.11.7)\n",
            "Requirement already satisfied: pyyaml in /usr/local/lib/python3.12/dist-packages (from wandb) (6.0.2)\n",
            "Requirement already satisfied: requests<3,>=2.0.0 in /usr/local/lib/python3.12/dist-packages (from wandb) (2.32.4)\n",
            "Requirement already satisfied: sentry-sdk>=2.0.0 in /usr/local/lib/python3.12/dist-packages (from wandb) (2.35.2)\n",
            "Requirement already satisfied: typing-extensions<5,>=4.8 in /usr/local/lib/python3.12/dist-packages (from wandb) (4.15.0)\n",
            "Requirement already satisfied: gitdb<5,>=4.0.1 in /usr/local/lib/python3.12/dist-packages (from gitpython!=3.1.29,>=1.0.0->wandb) (4.0.12)\n",
            "Requirement already satisfied: annotated-types>=0.6.0 in /usr/local/lib/python3.12/dist-packages (from pydantic<3->wandb) (0.7.0)\n",
            "Requirement already satisfied: pydantic-core==2.33.2 in /usr/local/lib/python3.12/dist-packages (from pydantic<3->wandb) (2.33.2)\n",
            "Requirement already satisfied: typing-inspection>=0.4.0 in /usr/local/lib/python3.12/dist-packages (from pydantic<3->wandb) (0.4.1)\n",
            "Requirement already satisfied: charset_normalizer<4,>=2 in /usr/local/lib/python3.12/dist-packages (from requests<3,>=2.0.0->wandb) (3.4.3)\n",
            "Requirement already satisfied: idna<4,>=2.5 in /usr/local/lib/python3.12/dist-packages (from requests<3,>=2.0.0->wandb) (3.10)\n",
            "Requirement already satisfied: urllib3<3,>=1.21.1 in /usr/local/lib/python3.12/dist-packages (from requests<3,>=2.0.0->wandb) (2.5.0)\n",
            "Requirement already satisfied: certifi>=2017.4.17 in /usr/local/lib/python3.12/dist-packages (from requests<3,>=2.0.0->wandb) (2025.8.3)\n",
            "Requirement already satisfied: smmap<6,>=3.0.1 in /usr/local/lib/python3.12/dist-packages (from gitdb<5,>=4.0.1->gitpython!=3.1.29,>=1.0.0->wandb) (5.0.2)\n",
            "Collecting pyECG\n",
            "  Downloading pyECG-0.0.9.1-py2.py3-none-any.whl.metadata (3.1 kB)\n",
            "Collecting ishneholterlib==2017.4.11 (from pyECG)\n",
            "  Downloading ishneholterlib-2017.4.11.tar.gz (7.0 kB)\n",
            "  Preparing metadata (setup.py) ... \u001b[?25l\u001b[?25hdone\n",
            "Requirement already satisfied: numpy in /usr/local/lib/python3.12/dist-packages (from pyECG) (2.0.2)\n",
            "Collecting wfdb==2.2.1 (from pyECG)\n",
            "  Downloading wfdb-2.2.1.tar.gz (94 kB)\n",
            "\u001b[2K     \u001b[90m━━━━━━━━━━━━━━━━━━━━━━━━━━━━━━━━━━━━━━━━\u001b[0m \u001b[32m94.9/94.9 kB\u001b[0m \u001b[31m2.3 MB/s\u001b[0m eta \u001b[36m0:00:00\u001b[0m\n",
            "\u001b[?25h  Preparing metadata (setup.py) ... \u001b[?25l\u001b[?25hdone\n",
            "Requirement already satisfied: pytest in /usr/local/lib/python3.12/dist-packages (from pyECG) (8.4.1)\n",
            "Collecting pytest-cov (from pyECG)\n",
            "  Downloading pytest_cov-6.3.0-py3-none-any.whl.metadata (30 kB)\n",
            "Collecting PyCRC (from ishneholterlib==2017.4.11->pyECG)\n",
            "  Downloading pycrc-0.11.0-py3-none-any.whl.metadata (2.7 kB)\n",
            "Collecting nose>=1.3.7 (from wfdb==2.2.1->pyECG)\n",
            "  Downloading nose-1.3.7-py3-none-any.whl.metadata (1.7 kB)\n",
            "Requirement already satisfied: matplotlib>=1.5.1 in /usr/local/lib/python3.12/dist-packages (from wfdb==2.2.1->pyECG) (3.10.0)\n",
            "Requirement already satisfied: requests>=2.10.0 in /usr/local/lib/python3.12/dist-packages (from wfdb==2.2.1->pyECG) (2.32.4)\n",
            "Requirement already satisfied: pandas>=0.19.1 in /usr/local/lib/python3.12/dist-packages (from wfdb==2.2.1->pyECG) (2.2.2)\n",
            "Requirement already satisfied: scipy>=0.19.0 in /usr/local/lib/python3.12/dist-packages (from wfdb==2.2.1->pyECG) (1.16.1)\n",
            "Collecting sklearn>=0.0 (from wfdb==2.2.1->pyECG)\n",
            "  Downloading sklearn-0.0.post12.tar.gz (2.6 kB)\n",
            "  \u001b[1;31merror\u001b[0m: \u001b[1msubprocess-exited-with-error\u001b[0m\n",
            "  \n",
            "  \u001b[31m×\u001b[0m \u001b[32mpython setup.py egg_info\u001b[0m did not run successfully.\n",
            "  \u001b[31m│\u001b[0m exit code: \u001b[1;36m1\u001b[0m\n",
            "  \u001b[31m╰─>\u001b[0m See above for output.\n",
            "  \n",
            "  \u001b[1;35mnote\u001b[0m: This error originates from a subprocess, and is likely not a problem with pip.\n",
            "  Preparing metadata (setup.py) ... \u001b[?25l\u001b[?25herror\n",
            "\u001b[1;31merror\u001b[0m: \u001b[1mmetadata-generation-failed\u001b[0m\n",
            "\n",
            "\u001b[31m×\u001b[0m Encountered error while generating package metadata.\n",
            "\u001b[31m╰─>\u001b[0m See above for output.\n",
            "\n",
            "\u001b[1;35mnote\u001b[0m: This is an issue with the package mentioned above, not pip.\n",
            "\u001b[1;36mhint\u001b[0m: See above for details.\n"
          ]
        }
      ],
      "source": [
        "!pip install PyPREP\n",
        "!pip install scipy\n",
        "!pip install wandb\n",
        "\n"
      ]
    },
    {
      "cell_type": "code",
      "source": [
        "!pip install scikit-learn\n"
      ],
      "metadata": {
        "colab": {
          "base_uri": "https://localhost:8080/"
        },
        "id": "RlTkDk_do-Xf",
        "outputId": "6226712a-9cb1-4d66-d808-c8bb4192917a"
      },
      "execution_count": null,
      "outputs": [
        {
          "output_type": "stream",
          "name": "stdout",
          "text": [
            "Requirement already satisfied: scikit-learn in /usr/local/lib/python3.12/dist-packages (1.6.1)\n",
            "Requirement already satisfied: numpy>=1.19.5 in /usr/local/lib/python3.12/dist-packages (from scikit-learn) (2.0.2)\n",
            "Requirement already satisfied: scipy>=1.6.0 in /usr/local/lib/python3.12/dist-packages (from scikit-learn) (1.16.1)\n",
            "Requirement already satisfied: joblib>=1.2.0 in /usr/local/lib/python3.12/dist-packages (from scikit-learn) (1.5.2)\n",
            "Requirement already satisfied: threadpoolctl>=3.1.0 in /usr/local/lib/python3.12/dist-packages (from scikit-learn) (3.6.0)\n"
          ]
        }
      ]
    },
    {
      "cell_type": "code",
      "source": [
        "!pip install pyECG --no-deps\n",
        "\n"
      ],
      "metadata": {
        "colab": {
          "base_uri": "https://localhost:8080/"
        },
        "id": "Wn-nv6TKpBhi",
        "outputId": "4e41d8ab-0d9c-456b-f5b2-1e445643db8f"
      },
      "execution_count": null,
      "outputs": [
        {
          "output_type": "stream",
          "name": "stdout",
          "text": [
            "Collecting pyECG\n",
            "  Using cached pyECG-0.0.9.1-py2.py3-none-any.whl.metadata (3.1 kB)\n",
            "Downloading pyECG-0.0.9.1-py2.py3-none-any.whl (14 kB)\n",
            "Installing collected packages: pyECG\n",
            "Successfully installed pyECG-0.0.9.1\n"
          ]
        }
      ]
    },
    {
      "cell_type": "markdown",
      "source": [
        "1. **PyPREP**\n",
        "\n",
        "   * Digunakan untuk **preprocessing sinyal EEG (Electroencephalography)**.\n",
        "   * Library ini mengimplementasikan metode **PREP pipeline**, yang berfungsi untuk mendeteksi dan menghapus noise, menghilangkan referensi yang buruk, serta membersihkan artefak dari data EEG sebelum dianalisis lebih lanjut.\n",
        "\n",
        "2. **SciPy**\n",
        "\n",
        "   * Merupakan salah satu library **ilmu data dan sains komputasi** paling penting di Python.\n",
        "   * Digunakan untuk operasi matematis tingkat lanjut seperti **aljabar linear, optimisasi, integrasi, pemrosesan sinyal, statistik, dan analisis numerik**.\n",
        "   * Sangat sering dipakai bersama NumPy.\n",
        "\n",
        "3. **Weights & Biases (wandb)**\n",
        "\n",
        "   * Digunakan untuk **tracking eksperimen machine learning**.\n",
        "   * Fungsinya termasuk **log training**, visualisasi metrik (loss, akurasi, dsb), menyimpan model, serta kolaborasi tim dalam proyek machine learning/deep learning.\n",
        "   * Terintegrasi dengan framework populer seperti TensorFlow, PyTorch, dan Keras.\n",
        "\n",
        "4. **pyECG**\n",
        "\n",
        "   * Library ini dipakai untuk **pemrosesan dan analisis sinyal ECG (Electrocardiography)**.\n",
        "   * Fungsinya antara lain: deteksi puncak R, pengukuran interval jantung, analisis HRV (Heart Rate Variability), dan pembersihan sinyal ECG.\n",
        "   * Cocok digunakan di bidang kesehatan atau penelitian biometrik.\n"
      ],
      "metadata": {
        "id": "EpCKZMeMpOet"
      }
    },
    {
      "cell_type": "markdown",
      "source": [
        "### Contoh Tindakan Melanggar Etika dan Hukum tentang Penggunaan Kecerdasan Buatan\n",
        "\n",
        "Penggunaan kecerdasan buatan (AI) sering kali menimbulkan pelanggaran etika dan hukum, terutama terkait privasi data, hak kekayaan intelektual, bias algoritma, dan penyalahgunaan teknologi. Berikut beberapa contoh nyata:\n",
        "\n",
        "1. **Pelanggaran Hak Kekayaan Intelektual (Intellectual Property Rights)**: AI seperti generator gambar atau teks sering dilatih menggunakan data yang dilindungi hak cipta tanpa izin, yang mengakibatkan pelanggaran hukum. Misalnya, penggunaan AI untuk memodifikasi karya orang lain tanpa atribusi dapat melanggar undang-undang hak cipta, seperti yang terjadi dalam kasus-kasus litigasi terhadap perusahaan AI yang menggunakan dataset scraped dari internet. Selain itu, ini juga melanggar etika karena mengabaikan hak pencipta asli.\n",
        "\n",
        "2. **Pelanggaran Privasi Data**: Salah satu kasus terkenal adalah skandal Facebook dan Cambridge Analytica, di mana AI digunakan untuk menganalisis data pengguna tanpa persetujuan yang tepat, yang melanggar etika privasi dan regulasi seperti GDPR (General Data Protection Regulation) di Eropa. Ini mengakibatkan manipulasi opini publik dan penyalahgunaan data pribadi untuk tujuan politik. Pelanggaran semacam ini juga melibatkan pengumpulan data tanpa transparansi, yang bertentangan dengan prinsip etika AI seperti akuntabilitas.\n",
        "\n",
        "3. **Bias dan Diskriminasi dalam Algoritma**: AI yang digunakan dalam perekrutan atau sistem peradilan sering kali memiliki bias dari data pelatihan yang tidak lengkap atau historis, yang mengakibatkan diskriminasi terhadap kelompok minoritas. Contohnya, algoritma AI yang bias gender atau rasial dapat melanggar undang-undang anti-diskriminasi, seperti yang ditemukan dalam kasus-kasus di pengadilan AS di mana AI gagal netral. Secara etis, ini melanggar prinsip keadilan dan dapat menyebabkan kerugian sosial jangka panjang.\n",
        "\n",
        "4. **Penyalahgunaan AI dalam Kesehatan**: Dalam bidang kesehatan, AI yang tidak diuji dengan benar dapat memberikan diagnosis salah karena kesalahan algoritma, yang melanggar etika medis dan potensial melanggar hukum terkait tanggung jawab medis. Contohnya termasuk sistem AI yang melanggar privasi pasien dengan berbagi data tanpa izin.\n",
        "\n",
        "\n",
        "### Contoh Dampak Energi dan Lingkungan terhadap Pemanfaatan Kecerdasan Buatan dan Cara Mengatasinya\n",
        "\n",
        "Pemanfaatan AI, terutama model generatif seperti GPT atau sistem pembelajaran mesin skala besar, memiliki dampak signifikan terhadap energi dan lingkungan karena konsumsi daya listrik yang tinggi dari pusat data, penggunaan air untuk pendinginan, dan emisi karbon dari sumber energi fosil. Berikut contoh dampak dan cara mengatasinya:\n",
        "\n",
        "1. **Dampak Energi dan Emisi Karbon**: Pelatihan satu model AI besar dapat mengonsumsi energi setara dengan ribuan rumah tangga selama berbulan-bulan, yang berkontribusi pada emisi gas rumah kaca. Misalnya, model generatif AI meningkatkan permintaan listrik secara eksponensial, dengan estimasi bahwa AI bisa menyumbang hingga 8% dari konsumsi listrik global pada 2030 jika tidak dikendalikan. Ini memperburuk perubahan iklim karena sebagian besar pusat data masih bergantung pada energi fosil.\n",
        "\n",
        "2. **Dampak Penggunaan Air dan Sumber Daya**: Pusat data AI memerlukan jutaan liter air untuk pendinginan, yang dapat memperburuk kekeringan di daerah-daerah tertentu. Contohnya, operasi AI di wilayah kering seperti Arizona telah meningkatkan tekanan pada sumber air lokal. Selain itu, produksi hardware AI melibatkan penambangan mineral langka, yang merusak lingkungan melalui polusi dan degradasi tanah.\n",
        "\n",
        "Cara mengatasinya meliputi:\n",
        "- **Transisi ke Energi Terbarukan**: Beralih ke sumber energi seperti surya, angin, atau hidroelektrik untuk mengoperasikan pusat data, yang dapat mengurangi emisi hingga 80%.\n",
        "- **Optimasi Model AI**: Menggunakan model AI yang lebih efisien, seperti mengurangi ukuran model atau mengoptimalkan alur kerja, untuk menghemat energi tanpa mengorbankan kinerja.\n",
        "- **Pengukuran dan Kepatuhan Regulasi**: Perusahaan harus mengukur emisi secara rutin dan mematuhi standar lingkungan, serta mendaur ulang air dan komponen hardware.\n"
      ],
      "metadata": {
        "id": "nkaGNdR_pfff"
      }
    },
    {
      "cell_type": "markdown",
      "source": [],
      "metadata": {
        "id": "mnsliu3Tp9aG"
      }
    }
  ]
}