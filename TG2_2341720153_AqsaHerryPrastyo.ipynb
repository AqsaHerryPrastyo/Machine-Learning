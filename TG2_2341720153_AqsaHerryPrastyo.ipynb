{
  "nbformat": 4,
  "nbformat_minor": 0,
  "metadata": {
    "colab": {
      "provenance": [],
      "authorship_tag": "ABX9TyPkfDfjpaDnN+MMe4qC7nf0",
      "include_colab_link": true
    },
    "kernelspec": {
      "name": "python3",
      "display_name": "Python 3"
    },
    "language_info": {
      "name": "python"
    }
  },
  "cells": [
    {
      "cell_type": "markdown",
      "metadata": {
        "id": "view-in-github",
        "colab_type": "text"
      },
      "source": [
        "<a href=\"https://colab.research.google.com/github/AqsaHerryPrastyo/Machine-Learning/blob/main/TG2_2341720153_AqsaHerryPrastyo.ipynb\" target=\"_parent\"><img src=\"https://colab.research.google.com/assets/colab-badge.svg\" alt=\"Open In Colab\"/></a>"
      ]
    },
    {
      "cell_type": "code",
      "execution_count": 2,
      "metadata": {
        "colab": {
          "base_uri": "https://localhost:8080/"
        },
        "id": "40Sw6Tshvr6h",
        "outputId": "151d47bd-18c5-41a0-abc9-1467a7f35520"
      },
      "outputs": [
        {
          "output_type": "stream",
          "name": "stdout",
          "text": [
            "Data awal:\n",
            "         id diagnosis  radius_mean  texture_mean  perimeter_mean  area_mean  \\\n",
            "0    842302         M        17.99         10.38          122.80     1001.0   \n",
            "1    842517         M        20.57         17.77          132.90     1326.0   \n",
            "2  84300903         M        19.69         21.25          130.00     1203.0   \n",
            "3  84348301         M        11.42         20.38           77.58      386.1   \n",
            "4  84358402         M        20.29         14.34          135.10     1297.0   \n",
            "\n",
            "   smoothness_mean  compactness_mean  concavity_mean  concave points_mean  \\\n",
            "0          0.11840           0.27760          0.3001              0.14710   \n",
            "1          0.08474           0.07864          0.0869              0.07017   \n",
            "2          0.10960           0.15990          0.1974              0.12790   \n",
            "3          0.14250           0.28390          0.2414              0.10520   \n",
            "4          0.10030           0.13280          0.1980              0.10430   \n",
            "\n",
            "   ...  texture_worst  perimeter_worst  area_worst  smoothness_worst  \\\n",
            "0  ...          17.33           184.60      2019.0            0.1622   \n",
            "1  ...          23.41           158.80      1956.0            0.1238   \n",
            "2  ...          25.53           152.50      1709.0            0.1444   \n",
            "3  ...          26.50            98.87       567.7            0.2098   \n",
            "4  ...          16.67           152.20      1575.0            0.1374   \n",
            "\n",
            "   compactness_worst  concavity_worst  concave points_worst  symmetry_worst  \\\n",
            "0             0.6656           0.7119                0.2654          0.4601   \n",
            "1             0.1866           0.2416                0.1860          0.2750   \n",
            "2             0.4245           0.4504                0.2430          0.3613   \n",
            "3             0.8663           0.6869                0.2575          0.6638   \n",
            "4             0.2050           0.4000                0.1625          0.2364   \n",
            "\n",
            "   fractal_dimension_worst  Unnamed: 32  \n",
            "0                  0.11890          NaN  \n",
            "1                  0.08902          NaN  \n",
            "2                  0.08758          NaN  \n",
            "3                  0.17300          NaN  \n",
            "4                  0.07678          NaN  \n",
            "\n",
            "[5 rows x 33 columns]\n"
          ]
        }
      ],
      "source": [
        "# Import library\n",
        "import pandas as pd\n",
        "from sklearn.preprocessing import LabelEncoder, StandardScaler\n",
        "from sklearn.model_selection import train_test_split\n",
        "\n",
        "# 1. Baca data\n",
        "df = pd.read_csv(\"/content/wbc.csv\")\n",
        "\n",
        "print(\"Data awal:\")\n",
        "print(df.head())"
      ]
    },
    {
      "cell_type": "code",
      "source": [
        "# 1. Pisahkan variabel yang tidak digunakan\n",
        "\n",
        "df = df.drop(columns=[\"id\"], errors=\"ignore\")\n",
        "df = df.drop(columns=[\"Unnamed: 32\"], errors=\"ignore\")\n",
        "print(df.head())"
      ],
      "metadata": {
        "colab": {
          "base_uri": "https://localhost:8080/"
        },
        "id": "T2cm2m7kxw1d",
        "outputId": "d219b442-c035-4a17-b690-a305dfde519f"
      },
      "execution_count": 10,
      "outputs": [
        {
          "output_type": "stream",
          "name": "stdout",
          "text": [
            "   diagnosis  radius_mean  texture_mean  perimeter_mean  area_mean  \\\n",
            "0          1     1.097064     -2.073335        1.269934   0.984375   \n",
            "1          1     1.829821     -0.353632        1.685955   1.908708   \n",
            "2          1     1.579888      0.456187        1.566503   1.558884   \n",
            "3          1    -0.768909      0.253732       -0.592687  -0.764464   \n",
            "4          1     1.750297     -1.151816        1.776573   1.826229   \n",
            "\n",
            "   smoothness_mean  compactness_mean  concavity_mean  concave points_mean  \\\n",
            "0         1.568466          3.283515        2.652874             2.532475   \n",
            "1        -0.826962         -0.487072       -0.023846             0.548144   \n",
            "2         0.942210          1.052926        1.363478             2.037231   \n",
            "3         3.283553          3.402909        1.915897             1.451707   \n",
            "4         0.280372          0.539340        1.371011             1.428493   \n",
            "\n",
            "   symmetry_mean  ...  radius_worst  texture_worst  perimeter_worst  \\\n",
            "0       2.217515  ...      1.886690      -1.359293         2.303601   \n",
            "1       0.001392  ...      1.805927      -0.369203         1.535126   \n",
            "2       0.939685  ...      1.511870      -0.023974         1.347475   \n",
            "3       2.867383  ...     -0.281464       0.133984        -0.249939   \n",
            "4      -0.009560  ...      1.298575      -1.466770         1.338539   \n",
            "\n",
            "   area_worst  smoothness_worst  compactness_worst  concavity_worst  \\\n",
            "0    2.001237          1.307686           2.616665         2.109526   \n",
            "1    1.890489         -0.375612          -0.430444        -0.146749   \n",
            "2    1.456285          0.527407           1.082932         0.854974   \n",
            "3   -0.550021          3.394275           3.893397         1.989588   \n",
            "4    1.220724          0.220556          -0.313395         0.613179   \n",
            "\n",
            "   concave points_worst  symmetry_worst  fractal_dimension_worst  \n",
            "0              2.296076        2.750622                 1.937015  \n",
            "1              1.087084       -0.243890                 0.281190  \n",
            "2              1.955000        1.152255                 0.201391  \n",
            "3              2.175786        6.046041                 4.935010  \n",
            "4              0.729259       -0.868353                -0.397100  \n",
            "\n",
            "[5 rows x 31 columns]\n"
          ]
        }
      ]
    },
    {
      "cell_type": "code",
      "source": [
        "# 2. Encoding kolom diagnosis (M=1, B=0)\n",
        "encoder = LabelEncoder()\n",
        "df[\"diagnosis\"] = encoder.fit_transform(df[\"diagnosis\"])\n",
        "print(\"\\nSetelah encoding diagnosis (M=1, B=0):\")\n",
        "print(df[[\"diagnosis\"]].head())"
      ],
      "metadata": {
        "colab": {
          "base_uri": "https://localhost:8080/"
        },
        "id": "R2SMbkc-x1xa",
        "outputId": "2ee9e886-6c27-4cb5-ca2a-aa17fde3b074"
      },
      "execution_count": 7,
      "outputs": [
        {
          "output_type": "stream",
          "name": "stdout",
          "text": [
            "\n",
            "Setelah encoding diagnosis (M=1, B=0):\n",
            "   diagnosis\n",
            "0          1\n",
            "1          1\n",
            "2          1\n",
            "3          1\n",
            "4          1\n"
          ]
        }
      ]
    },
    {
      "cell_type": "code",
      "source": [
        "# 3. Standarisasi kolom numerik\n",
        "numeric_cols = df.drop(columns=[\"diagnosis\"]).columns\n",
        "scaler = StandardScaler()\n",
        "df[numeric_cols] = scaler.fit_transform(df[numeric_cols])\n",
        "print(\"\\nSetelah standarisasi:\")\n",
        "print(df.head())"
      ],
      "metadata": {
        "colab": {
          "base_uri": "https://localhost:8080/"
        },
        "id": "-i0glWCJx4LB",
        "outputId": "26604b84-cbb1-4c05-d961-c74b22e6d937"
      },
      "execution_count": 9,
      "outputs": [
        {
          "output_type": "stream",
          "name": "stdout",
          "text": [
            "\n",
            "Setelah standarisasi:\n",
            "   diagnosis  radius_mean  texture_mean  perimeter_mean  area_mean  \\\n",
            "0          1     1.097064     -2.073335        1.269934   0.984375   \n",
            "1          1     1.829821     -0.353632        1.685955   1.908708   \n",
            "2          1     1.579888      0.456187        1.566503   1.558884   \n",
            "3          1    -0.768909      0.253732       -0.592687  -0.764464   \n",
            "4          1     1.750297     -1.151816        1.776573   1.826229   \n",
            "\n",
            "   smoothness_mean  compactness_mean  concavity_mean  concave points_mean  \\\n",
            "0         1.568466          3.283515        2.652874             2.532475   \n",
            "1        -0.826962         -0.487072       -0.023846             0.548144   \n",
            "2         0.942210          1.052926        1.363478             2.037231   \n",
            "3         3.283553          3.402909        1.915897             1.451707   \n",
            "4         0.280372          0.539340        1.371011             1.428493   \n",
            "\n",
            "   symmetry_mean  ...  radius_worst  texture_worst  perimeter_worst  \\\n",
            "0       2.217515  ...      1.886690      -1.359293         2.303601   \n",
            "1       0.001392  ...      1.805927      -0.369203         1.535126   \n",
            "2       0.939685  ...      1.511870      -0.023974         1.347475   \n",
            "3       2.867383  ...     -0.281464       0.133984        -0.249939   \n",
            "4      -0.009560  ...      1.298575      -1.466770         1.338539   \n",
            "\n",
            "   area_worst  smoothness_worst  compactness_worst  concavity_worst  \\\n",
            "0    2.001237          1.307686           2.616665         2.109526   \n",
            "1    1.890489         -0.375612          -0.430444        -0.146749   \n",
            "2    1.456285          0.527407           1.082932         0.854974   \n",
            "3   -0.550021          3.394275           3.893397         1.989588   \n",
            "4    1.220724          0.220556          -0.313395         0.613179   \n",
            "\n",
            "   concave points_worst  symmetry_worst  fractal_dimension_worst  \n",
            "0              2.296076        2.750622                 1.937015  \n",
            "1              1.087084       -0.243890                 0.281190  \n",
            "2              1.955000        1.152255                 0.201391  \n",
            "3              2.175786        6.046041                 4.935010  \n",
            "4              0.729259       -0.868353                -0.397100  \n",
            "\n",
            "[5 rows x 31 columns]\n"
          ]
        }
      ]
    }
  ]
}